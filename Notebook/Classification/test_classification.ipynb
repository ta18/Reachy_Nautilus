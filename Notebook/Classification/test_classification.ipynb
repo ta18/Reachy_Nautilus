{
 "cells": [
  {
   "cell_type": "markdown",
   "id": "db9d4947",
   "metadata": {},
   "source": [
    "# classification"
   ]
  },
  {
   "cell_type": "code",
   "execution_count": 1,
   "id": "697c899d",
   "metadata": {},
   "outputs": [],
   "source": [
    "import numpy as np \n",
    "import matplotlib.pyplot as plt \n",
    "\n",
    "import cv2 as cv \n",
    "from PIL import Image \n",
    "\n",
    "import time\n",
    "\n",
    "from pycoral.adapters import classify, common\n",
    "from pycoral.utils.edgetpu import make_interpreter\n",
    "from pycoral.utils.dataset import read_label_file\n",
    "\n",
    "from reachy_sdk import ReachySDK\n",
    "\n",
    "from reachy_sdk.trajectory import goto\n",
    "from reachy_sdk.trajectory.interpolation import InterpolationMode"
   ]
  },
  {
   "cell_type": "code",
   "execution_count": 2,
   "id": "40e9edb8",
   "metadata": {},
   "outputs": [],
   "source": [
    "reachy = ReachySDK('localhost')"
   ]
  },
  {
   "cell_type": "code",
   "execution_count": 4,
   "id": "9c43c935",
   "metadata": {},
   "outputs": [],
   "source": [
    "path_model = '/home/reachy/dev/reachy-tictactoe/reachy_tictactoe/models/ttt-boxes.tflite'\n",
    "path_label = '/home/reachy/dev/reachy-tictactoe/reachy_tictactoe/models/ttt-boxes.txt'"
   ]
  },
  {
   "cell_type": "code",
   "execution_count": 5,
   "id": "ad4b3e69",
   "metadata": {
    "scrolled": true
   },
   "outputs": [],
   "source": [
    "interpreter = make_interpreter(path_model)\n",
    "interpreter.allocate_tensors()\n",
    "\n",
    "labels = read_label_file(path_label)\n",
    "\n",
    "size = common.input_size(interpreter)"
   ]
  },
  {
   "cell_type": "code",
   "execution_count": 6,
   "id": "913f8df1",
   "metadata": {},
   "outputs": [],
   "source": [
    "board_cases = np.array((\n",
    "    ((81, 166, 260, 340), #Coordinates first board cases (top-left corner) (Xbl, Xbr, Ytr, Ybr)\n",
    "     (166, 258, 260, 340), #Coordinates second board cases\n",
    "     (258, 349, 260, 340),),\n",
    "\n",
    "    ((74, 161, 340, 432),\n",
    "     (161, 261, 340, 432),\n",
    "     (261, 360, 340, 432),),\n",
    "\n",
    "    ((65, 161, 432, 522),\n",
    "     (161, 266, 432, 522),\n",
    "     (266, 365, 432, 522),),\n",
    "))\n",
    "# left, right, top, bottom\n",
    "board_rect = np.array((\n",
    "    74, 384, 216, 483,\n",
    "))"
   ]
  },
  {
   "cell_type": "code",
   "execution_count": 7,
   "id": "60548865",
   "metadata": {},
   "outputs": [],
   "source": [
    "im = reachy.right_camera.wait_for_new_frame()\n",
    "height, width = np.shape(im)[:2]\n"
   ]
  },
  {
   "cell_type": "code",
   "execution_count": 41,
   "id": "321faf55",
   "metadata": {},
   "outputs": [],
   "source": [
    "video = cv.VideoWriter('tuto_classification5.avi',cv.VideoWriter_fourcc('M','J','P','G'), 10, (width,height))\n",
    "\n",
    "reachy.turn_on('head')\n",
    "reachy.head.look_at(x=1, y=0, z=0, duration=1.5)  \n",
    "time.sleep(1.5)\n",
    "\n",
    "reachy.head.look_at(0.5, 0, -0.50, duration=1.25)\n",
    "time.sleep(1.25)\n",
    "start = time.time()\n",
    "\n",
    "fps_count = 0\n",
    "\n",
    "while time.time() - start < 15:\n",
    "    \n",
    "    im = reachy.right_camera.wait_for_new_frame()\n",
    "    out = im.copy()\n",
    "\n",
    "    for row in range(3):\n",
    "        for col in range(3):\n",
    "            lx, rx, ly, ry = board_cases[row, col]\n",
    "            pil_img = Image.fromarray(out[ly:ry, lx:rx]).convert('RGB').resize(size, Image.ANTIALIAS)\n",
    "            pil_img.save(f'/home/reachy/Desktop/Reachy_Nautilus-main/Notebook/image{row}{col}.png')\n",
    "            common.set_input(interpreter, pil_img)\n",
    "            interpreter.invoke()\n",
    "            result = classify.get_classes(interpreter, top_k=3, score_threshold=0.5)\n",
    "            if result : \n",
    "                label = labels.get(result[0].id)\n",
    "                cv.putText(out, label, (int((lx+rx)/2)-30, int((ly+ry)/2)), cv.FONT_HERSHEY_SIMPLEX, 0.75, (255,0,0), 2)\n",
    "                cv.rectangle(out, (lx, ly), (rx, ry), (0, 255, 0), 5)\n",
    "    video.write(out)\n",
    "            \n",
    "video.release()\n",
    "\n",
    "reachy.head.look_at(0.5, 0, 0, duration=1)\n",
    "time.sleep(0.2)\n",
    "#reachy.turn_off('head')\n"
   ]
  },
  {
   "cell_type": "code",
   "execution_count": null,
   "id": "edaf393c",
   "metadata": {},
   "outputs": [],
   "source": []
  }
 ],
 "metadata": {
  "kernelspec": {
   "display_name": "Python 3",
   "language": "python",
   "name": "python3"
  },
  "language_info": {
   "codemirror_mode": {
    "name": "ipython",
    "version": 3
   },
   "file_extension": ".py",
   "mimetype": "text/x-python",
   "name": "python",
   "nbconvert_exporter": "python",
   "pygments_lexer": "ipython3",
   "version": "3.8.5"
  }
 },
 "nbformat": 4,
 "nbformat_minor": 5
}

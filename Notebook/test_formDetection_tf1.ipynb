{
 "cells": [
  {
   "cell_type": "markdown",
   "id": "db9d4947",
   "metadata": {},
   "source": [
    "# Détection d'objets pour edgeTPU : détection de form pour tictactoe 2021"
   ]
  },
  {
   "cell_type": "markdown",
   "id": "a9e22560",
   "metadata": {},
   "source": [
    "Ce notebook permet d'utiliser un réseau de neurones entrainer avec tensorflow 1 sur TPU (ici sur NUC)"
   ]
  },
  {
   "cell_type": "markdown",
   "id": "ec31c2a6",
   "metadata": {},
   "source": [
    "#### Ce notebook est inspirer du code ici : https://github.com/google-coral/pycoral/blob/master/examples/detect_image.pyavec qui nécessite l'installation de *tflite_runtime* et l'API *pycoral*  "
   ]
  },
  {
   "cell_type": "code",
   "execution_count": 1,
   "id": "697c899d",
   "metadata": {},
   "outputs": [],
   "source": [
    "import numpy as np \n",
    "import matplotlib.pyplot as plt \n",
    "%matplotlib notebook \n",
    "import cv2 as cv \n",
    "from PIL import Image \n",
    "\n",
    "import time\n",
    "\n",
    "from pycoral.adapters import classify, common\n",
    "#from pycoral.utils.edgetpu import make_interpreter\n",
    "#from pycoral.utils.dataset import read_label_file\n",
    "\n",
    "from tflite_runtime.interpreter import Interpreter\n",
    "from tflite_runtime.interpreter import load_delegate\n",
    "\n",
    "from reachy_sdk import ReachySDK\n",
    "\n",
    "from reachy_sdk.trajectory import goto\n",
    "from reachy_sdk.trajectory.interpolation import InterpolationMode\n",
    "\n",
    "#import argparse\n",
    "\n",
    "from PIL import ImageDraw\n",
    "\n",
    "from pycoral.adapters import detect\n",
    "from pycoral.utils.dataset import read_label_file\n",
    "from pycoral.utils.edgetpu import make_interpreter"
   ]
  },
  {
   "cell_type": "code",
   "execution_count": 2,
   "id": "40e9edb8",
   "metadata": {},
   "outputs": [],
   "source": [
    "reachy = ReachySDK('localhost')"
   ]
  },
  {
   "cell_type": "code",
   "execution_count": 3,
   "id": "62f64742",
   "metadata": {},
   "outputs": [],
   "source": [
    "reachy.turn_off('reachy')"
   ]
  },
  {
   "cell_type": "markdown",
   "id": "09b29273",
   "metadata": {},
   "source": [
    "Pour dessiner les boxes sur les images : "
   ]
  },
  {
   "cell_type": "code",
   "execution_count": 3,
   "id": "a88281d8",
   "metadata": {},
   "outputs": [],
   "source": [
    "def draw_objects(draw, objs, labels):\n",
    "#Draws the bounding box and label for each object.\n",
    "  for obj in objs:\n",
    "    bbox = obj.bbox\n",
    "    draw.rectangle([(bbox.xmin, bbox.ymin), (bbox.xmax, bbox.ymax)],\n",
    "                   outline='red')\n",
    "    draw.text((bbox.xmin + 10, bbox.ymin + 10),\n",
    "              '%s\\n%.2f' % (labels.get(obj.id, obj.id), obj.score),\n",
    "              fill='red')\n"
   ]
  },
  {
   "cell_type": "code",
   "execution_count": 4,
   "id": "06b50d11",
   "metadata": {},
   "outputs": [],
   "source": [
    "nb=200"
   ]
  },
  {
   "cell_type": "code",
   "execution_count": 4,
   "id": "fdd57f17",
   "metadata": {},
   "outputs": [],
   "source": [
    "#reachy.right_camera.start_autofocus"
   ]
  },
  {
   "cell_type": "markdown",
   "id": "f5784e93",
   "metadata": {},
   "source": [
    "Pour tester la détection des cube, cylindres et cases vides ont peut lancer un code sur une image : "
   ]
  },
  {
   "cell_type": "code",
   "execution_count": 5,
   "id": "cd893fe1",
   "metadata": {},
   "outputs": [],
   "source": [
    "path_model = '/home/reachy/Desktop/tfliteV2/output_tflite_graph_edgetpu.tflite'\n",
    "path_label = '/home/reachy/Desktop/tfliteV2/label.txt'\n",
    "\n",
    "labels = read_label_file(path_label) if path_label else {}\n",
    "interpreter = make_interpreter(path_model)\n",
    "interpreter.allocate_tensors()\n",
    "\n",
    "reachy.turn_on('head')\n",
    "reachy.head.look_at(x=1, y=0, z=0, duration=1.5)  \n",
    "time.sleep(1.5)\n",
    "reachy.head.look_at(x=0.75, y=0, z=-0.6, duration=1) \n",
    "#reachy.right_camera.start_autofocus\n",
    "time.sleep(1.5)\n",
    "\n",
    "image = reachy.right_camera.wait_for_new_frame()\n",
    "\n",
    "time.sleep(1.5)\n",
    "#image = Image.open('/home/reachy/Desktop/images2/image1.png')\n",
    "image = Image.fromarray(image)\n",
    "top = 270\n",
    "left = 40\n",
    "height = 320\n",
    "width = 320\n",
    "\n",
    "box=(left, top, left+width, top+height)\n",
    " \n",
    "image = image.crop(box) \n",
    "image = image.resize((300,300), Image.ANTIALIAS)\n",
    "#image.save(f'/home/reachy/Reachy_Nautilus/Notebook/img_test_detect/imageTest.png')\n",
    "_, scale = common.set_resized_input(interpreter, image.size, lambda size: image.resize(size, Image.ANTIALIAS))\n",
    "\n",
    "args_threshold = 0.4\n",
    "\n",
    "\n",
    "start = time.perf_counter()\n",
    "interpreter.invoke()\n",
    "inference_time = time.perf_counter() - start\n",
    "objs = detect.get_objects(interpreter, args_threshold, scale)\n",
    "#print(objs)\n",
    "#print('%.2f ms' % (inference_time * 1000))\n",
    "\n",
    "#print('-------RESULTS--------')\n",
    "#if not objs:\n",
    "    #print('No objects detected')\n",
    "\n",
    "#for obj in objs:\n",
    "    #obj = objs[0]\n",
    "    #print(labels.get(obj.id, obj.id))\n",
    "    #print('  id:    ', obj.id)\n",
    "    #print('  score: ', obj.score)\n",
    "    #print('  bbox:  ', obj.bbox)\n",
    "\n",
    "image = image.convert('RGB')\n",
    "draw_objects(ImageDraw.Draw(image), objs, labels)\n",
    "image.save(f'/home/reachy/Reachy_Nautilus/Notebook/img_test_detect/image{nb}.png')\n",
    "#image.save('/home/reachy/Reachy_Nautilus/Notebook/image.png')\n",
    "nb = nb+1\n",
    "image.show()\n",
    "\n",
    "reachy.head.look_at(x=1.5, y=0, z=0, duration=1.5) \n",
    "time.sleep(1.5)\n",
    "#reachy.turn_off('head')\n"
   ]
  },
  {
   "cell_type": "code",
   "execution_count": 6,
   "id": "a7a29861",
   "metadata": {},
   "outputs": [
    {
     "data": {
      "text/plain": [
       "array([[0, 0, 0],\n",
       "       [0, 0, 0],\n",
       "       [0, 0, 0]], dtype=uint8)"
      ]
     },
     "execution_count": 6,
     "metadata": {},
     "output_type": "execute_result"
    }
   ],
   "source": [
    "board = np.zeros((3, 3), dtype=np.uint8)\n",
    "board"
   ]
  },
  {
   "cell_type": "code",
   "execution_count": 7,
   "id": "64d8eecf",
   "metadata": {},
   "outputs": [],
   "source": [
    "reachy.turn_off('reachy')"
   ]
  },
  {
   "cell_type": "markdown",
   "id": "0ec24b29",
   "metadata": {},
   "source": [
    "Pour tester la detection de facons plus intéractive on peut lancer la détection sur une vidéo est bouger les pions pendant que le programme tourne : "
   ]
  },
  {
   "cell_type": "code",
   "execution_count": null,
   "id": "7b5cb280",
   "metadata": {},
   "outputs": [],
   "source": [
    "im = reachy.right_camera.wait_for_new_frame()\n",
    "height, width = np.shape(im)[:2]"
   ]
  },
  {
   "cell_type": "code",
   "execution_count": null,
   "id": "a05b558b",
   "metadata": {},
   "outputs": [],
   "source": [
    "video = cv.VideoWriter('tuto_classification400.avi',cv.VideoWriter_fourcc('M','J','P','G'), 5,(width,height))\n",
    "\n",
    "reachy.turn_on('head')\n",
    "reachy.head.look_at(x=1, y=0, z=0, duration=1.5)  \n",
    "time.sleep(1.5)\n",
    "\n",
    "reachy.head.look_at(x=0.75, y=0, z=-0.4, duration=1.5) \n",
    "path_model = '/home/reachy/Desktop/tflite/form_detection1/output_tflite_graph_edgetpu.tflite'\n",
    "path_label = '/home/reachy/Desktop/tflite/form_detection1/label.txt'\n",
    "\n",
    "labels = read_label_file(path_label) if path_label else {}\n",
    "interpreter = make_interpreter(path_model)\n",
    "interpreter.allocate_tensors()\n",
    "\n",
    "start = time.time()\n",
    "fps_count = 0\n",
    "nb = 1\n",
    "while time.time() - start < 15:\n",
    "    \n",
    "    print(f'temps : {time.time() - start}')\n",
    "    im = reachy.right_camera.wait_for_new_frame()\n",
    "    out = im.copy()\n",
    "\n",
    "    for row in range(3):\n",
    "        for col in range(3):\n",
    "            lx, rx, ly, ry = board_cases[row, col]\n",
    "            \n",
    "            image = Image.fromarray(out[ly:ry, lx:rx])\n",
    "            image.save(f'/home/reachy/Desktop/image{nb}.png')\n",
    "            nb = nb+1\n",
    "            _, scale = common.set_resized_input(interpreter, image.size, lambda size: image.resize(size, Image.ANTIALIAS))\n",
    "\n",
    "            args_count = 1\n",
    "            args_threshold = 0.5\n",
    "\n",
    "            for _ in range(args_count):\n",
    "                start2 = time.perf_counter()\n",
    "                interpreter.invoke()\n",
    "                inference_time = time.perf_counter() - start2\n",
    "                objs = detect.get_objects(interpreter, args_threshold, scale)\n",
    "                print('%.2f ms' % (inference_time * 1000))\n",
    "\n",
    "            print('-------RESULTS--------')\n",
    "            if not objs:\n",
    "                print('No objects detected')\n",
    "\n",
    "            #for obj in objs:\n",
    "            obj = objs[0]\n",
    "            print(labels.get(obj.id, obj.id))\n",
    "            print('  id:    ', obj.id)\n",
    "            print('  score: ', obj.score)\n",
    "            print('  bbox:  ', obj.bbox)\n",
    "            label = 'pouet'\n",
    "            if (obj.id == 0):\n",
    "                label = 'empty'\n",
    "            if (obj.id == 1):\n",
    "                label = 'cube'\n",
    "            if (obj.id == 2):\n",
    "                label = 'cylinder'\n",
    "\n",
    "            #image = image.convert('RGB')\n",
    "            #draw_objects(ImageDraw.Draw(image), objs, labels)\n",
    "            #image.save('image.png')\n",
    "            #image.show()\n",
    "            \n",
    "            #label = labels.get(result[0].id)\n",
    "            cv.putText(out, label, (int((lx+rx)/2)-30, int((ly+ry)/2)), cv.FONT_HERSHEY_SIMPLEX, 0.75, (255,0,0), 2)\n",
    "            cv.rectangle(out, (lx, ly), (rx, ry), (0, 255, 0), 5)\n",
    "            #time.sleep(5)\n",
    "    video.write(out)        \n",
    "            \n",
    "video.release()\n",
    "\n",
    "reachy.head.look_at(0.5, 0, 0, duration=1)\n",
    "time.sleep(0.2)"
   ]
  },
  {
   "cell_type": "code",
   "execution_count": null,
   "id": "a1c4f7e3",
   "metadata": {},
   "outputs": [],
   "source": [
    "video = cv.VideoWriter('tuto_classification400.avi',cv.VideoWriter_fourcc('M','J','P','G'), 10,(width,height))\n",
    "\n",
    "reachy.turn_on('head')\n",
    "reachy.head.look_at(x=1, y=0, z=0, duration=1.5)  \n",
    "time.sleep(1.5)\n",
    "\n",
    "reachy.head.look_at(x=0.75, y=0, z=-0.6, duration=1.5) \n",
    "time.sleep(1.5)\n",
    "\n",
    "path_model = '/home/reachy/Desktop/tflite2/output_tflite_graph_edgetpu.tflite'\n",
    "path_label = '/home/reachy/Desktop/tflite2/label.txt'\n",
    "\n",
    "labels = read_label_file(path_label) if path_label else {}\n",
    "interpreter = make_interpreter(path_model)\n",
    "interpreter.allocate_tensors()\n",
    "\n",
    "start = time.time()\n",
    "fps_count = 0\n",
    "\n",
    "while time.time() - start < 15:\n",
    "    \n",
    "    image = reachy.right_camera.wait_for_new_frame()\n",
    "    out = image.copy()\n",
    "    \n",
    "    image = Image.fromarray(image)\n",
    "    #out = Image.fromarray(out)\n",
    "    _, scale = common.set_resized_input(interpreter, image.size, lambda size: image.resize(size, Image.ANTIALIAS))\n",
    "\n",
    "    args_count = 1\n",
    "    args_threshold = 0.5\n",
    "\n",
    "    for _ in range(args_count):\n",
    "        start2 = time.perf_counter()\n",
    "        interpreter.invoke()\n",
    "        inference_time = time.perf_counter() - start2\n",
    "        objs = detect.get_objects(interpreter, args_threshold, scale)\n",
    "        print('%.2f ms' % (inference_time * 1000))\n",
    "\n",
    "    print('-------RESULTS--------')\n",
    "    if not objs:\n",
    "        print('No objects detected')\n",
    "\n",
    "    for obj in objs:\n",
    "    #obj = objs[0]\n",
    "        print(labels.get(obj.id, obj.id))\n",
    "        print('  id:    ', obj.id)\n",
    "        print('  score: ', obj.score)\n",
    "        print('  bbox:  ', obj.bbox)\n",
    "\n",
    "    #out = out.convert('RGB')\n",
    "    #raw_objects(ImageDraw.Draw(out), objs, labels)\n",
    "    #image.save('image.png')\n",
    "    #image.show()\n",
    "    cv.putText(out, label, (int((lx+rx)/2)-30, int((ly+ry)/2)), cv.FONT_HERSHEY_SIMPLEX, 0.75, (255,0,0), 2)\n",
    "    cv.rectangle(out, (lx, ly), (rx, ry), (0, 255, 0), 5)\n",
    "    video.write(out)                    \n",
    "video.release()\n",
    "\n",
    "reachy.head.look_at(1, 0, 0, duration=1)\n",
    "reachy.turn_off('head')"
   ]
  },
  {
   "cell_type": "markdown",
   "id": "6cc82eef",
   "metadata": {},
   "source": [
    "Pour générer des images pour l'entrainement : "
   ]
  },
  {
   "cell_type": "code",
   "execution_count": null,
   "id": "4568b3c1",
   "metadata": {},
   "outputs": [],
   "source": [
    "nb=1"
   ]
  },
  {
   "cell_type": "code",
   "execution_count": null,
   "id": "0afaa478",
   "metadata": {},
   "outputs": [],
   "source": [
    "# Get an image and check if the board is in the image\n",
    "\n",
    "reachy.turn_on('head')\n",
    "reachy.head.look_at(x=1, y=0, z=0, duration=1.5)  \n",
    "\n",
    "time.sleep(1.0)\n",
    "\n",
    "reachy.head.look_at(x=0.75, y=0, z=-0.6, duration=1.5) \n",
    "#you can adjust the z parameter to get the board in the image\n",
    "\n",
    "#_, img = reachy.head.right_camera.read()\n",
    "img = reachy.right_camera.wait_for_new_frame()\n",
    "time.sleep(1.0)\n",
    "\n",
    "reachy.head.look_at(x=1, y=0, z=0, duration=1.5)  "
   ]
  },
  {
   "cell_type": "code",
   "execution_count": null,
   "id": "c9d0e983",
   "metadata": {},
   "outputs": [],
   "source": [
    "# Visualize what Reachy saw, adjust z parameter in the look_at until you see the whole board.\n",
    "\n",
    "plt.figure()\n",
    "plt.imshow(cv.cvtColor(img, cv.COLOR_BGR2RGB))\n",
    "#dst = cv2.cvtColor(src, code)"
   ]
  },
  {
   "cell_type": "code",
   "execution_count": null,
   "id": "a945a714",
   "metadata": {},
   "outputs": [],
   "source": [
    "img = Image.fromarray(img)\n",
    "img.save(f'/home/reachy/Desktop/images2/image{nb}.png')\n",
    "#img.show()\n",
    "nb = nb+1"
   ]
  },
  {
   "cell_type": "code",
   "execution_count": null,
   "id": "b0167bac",
   "metadata": {},
   "outputs": [],
   "source": [
    "reachy.turn_off('reachy')"
   ]
  },
  {
   "cell_type": "code",
   "execution_count": 33,
   "id": "6fd27938",
   "metadata": {},
   "outputs": [],
   "source": [
    "img = Image.open(\"/home/reachy/Reachy_Nautilus/Notebook/img_test_detect/image113.png\") \n",
    "\n",
    "top = 210\n",
    "left = 10\n",
    "height = 400\n",
    "width = 400\n",
    "\n",
    "box=(left, top, left+width, top+height)\n",
    " \n",
    "img_res = img.crop(box) \n",
    "\n",
    "img_res.save('/home/reachy/Reachy_Nautilus/Notebook/img_test_detect/pouet.png')\n",
    "img_res.show() "
   ]
  },
  {
   "cell_type": "code",
   "execution_count": null,
   "id": "2385f7e1",
   "metadata": {},
   "outputs": [],
   "source": []
  }
 ],
 "metadata": {
  "kernelspec": {
   "display_name": "Python 3",
   "language": "python",
   "name": "python3"
  },
  "language_info": {
   "codemirror_mode": {
    "name": "ipython",
    "version": 3
   },
   "file_extension": ".py",
   "mimetype": "text/x-python",
   "name": "python",
   "nbconvert_exporter": "python",
   "pygments_lexer": "ipython3",
   "version": "3.8.5"
  }
 },
 "nbformat": 4,
 "nbformat_minor": 5
}

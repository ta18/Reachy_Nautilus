{
 "cells": [
  {
   "cell_type": "code",
   "execution_count": 2,
   "metadata": {},
   "outputs": [],
   "source": [
    "import numpy as np\n",
    "\n",
    "from reachy_sdk import ReachySDK\n",
    "\n",
    "from reachy_sdk.trajectory import goto\n",
    "from reachy_sdk.trajectory.interpolation import InterpolationMode"
   ]
  },
  {
   "cell_type": "code",
   "execution_count": 3,
   "metadata": {},
   "outputs": [],
   "source": [
    "reachy = ReachySDK('localhost')"
   ]
  },
  {
   "cell_type": "markdown",
   "metadata": {},
   "source": [
    "Check if all the joints seem to be detected."
   ]
  },
  {
   "cell_type": "markdown",
   "metadata": {},
   "source": [
    "## Checking compliance"
   ]
  },
  {
   "cell_type": "code",
   "execution_count": 4,
   "metadata": {},
   "outputs": [],
   "source": [
    "reachy.turn_on('reachy')"
   ]
  },
  {
   "cell_type": "code",
   "execution_count": 5,
   "metadata": {},
   "outputs": [],
   "source": [
    "reachy.turn_off('reachy')"
   ]
  },
  {
   "cell_type": "markdown",
   "metadata": {},
   "source": [
    "Lift both arms, put them in stiff mode and check if *turn_off_smoothly* works."
   ]
  },
  {
   "cell_type": "code",
   "execution_count": 6,
   "metadata": {},
   "outputs": [],
   "source": [
    "reachy.turn_on('reachy')"
   ]
  },
  {
   "cell_type": "code",
   "execution_count": 4,
   "metadata": {},
   "outputs": [],
   "source": [
    "reachy.turn_off_smoothly('reachy')"
   ]
  },
  {
   "cell_type": "markdown",
   "metadata": {},
   "source": [
    "## Moving the arms"
   ]
  },
  {
   "cell_type": "markdown",
   "metadata": {},
   "source": [
    "Reproduce the square movement from [the documentation](https://pollen-robotics.github.io/reachy-2021-docs/sdk/first-moves/kinematics/#inverse-kinematics), to check if this Reachy can reproduce it."
   ]
  },
  {
   "cell_type": "markdown",
   "metadata": {},
   "source": [
    "For the right arm:"
   ]
  },
  {
   "cell_type": "code",
   "execution_count": 13,
   "metadata": {},
   "outputs": [],
   "source": [
    "A = np.array([\n",
    "  [0, 0, -1, 0.3],\n",
    "  [0, 1, 0, -0.4],  \n",
    "  [1, 0, 0, -0.3],\n",
    "  [0, 0, 0, 1],  \n",
    "])\n",
    "\n",
    "B = np.array([\n",
    "  [0, 0, -1, 0.3],\n",
    "  [0, 1, 0, -0.4],  \n",
    "  [1, 0, 0, 0.0],\n",
    "  [0, 0, 0, 1],  \n",
    "])\n",
    "\n",
    "C = np.array([\n",
    "  [0, 0, -1, 0.3],\n",
    "  [0, 1, 0, -0.1],  \n",
    "  [1, 0, 0, 0.0],\n",
    "  [0, 0, 0, 1],  \n",
    "])\n",
    "\n",
    "D = np.array([\n",
    "  [0, 0, -1, 0.3],\n",
    "  [0, 1, 0, -0.1],  \n",
    "  [1, 0, 0, -0.3],\n",
    "  [0, 0, 0, 1],  \n",
    "])"
   ]
  },
  {
   "cell_type": "code",
   "execution_count": 14,
   "metadata": {},
   "outputs": [],
   "source": [
    "try:\n",
    "    joint_pos_A = reachy.r_arm.inverse_kinematics(A)\n",
    "    joint_pos_B = reachy.r_arm.inverse_kinematics(B)\n",
    "    joint_pos_C = reachy.r_arm.inverse_kinematics(C)\n",
    "    joint_pos_D = reachy.r_arm.inverse_kinematics(D)\n",
    "except AttributeError:\n",
    "    print('Reachy has no right arm!')"
   ]
  },
  {
   "cell_type": "code",
   "execution_count": 15,
   "metadata": {},
   "outputs": [],
   "source": [
    "import time\n",
    "# put the joints in stiff mode\n",
    "try:\n",
    "    reachy.turn_on('r_arm')\n",
    "\n",
    "    # use the goto function\n",
    "    goto({joint: pos for joint,pos in zip(reachy.r_arm.joints.values(), joint_pos_A)}, duration=1.0)\n",
    "    time.sleep(0.5)\n",
    "    goto({joint: pos for joint,pos in zip(reachy.r_arm.joints.values(), joint_pos_B)}, duration=1.0)\n",
    "    time.sleep(0.5)\n",
    "    goto({joint: pos for joint,pos in zip(reachy.r_arm.joints.values(), joint_pos_C)}, duration=1.0)\n",
    "    time.sleep(0.5)\n",
    "    goto({joint: pos for joint,pos in zip(reachy.r_arm.joints.values(), joint_pos_D)}, duration=1.0)\n",
    "\n",
    "    # put the joints back to compliant mode\n",
    "    # use turn_off_smoothly to prevent the arm from falling hard\n",
    "    reachy.turn_off_smoothly('r_arm')\n",
    "    \n",
    "except AttributeError:\n",
    "    print('Reachy has no right arm!')"
   ]
  },
  {
   "cell_type": "markdown",
   "metadata": {},
   "source": [
    "For the left arm:"
   ]
  },
  {
   "cell_type": "code",
   "execution_count": 20,
   "metadata": {},
   "outputs": [],
   "source": [
    "A = np.array([\n",
    "  [0, 0, -1, 0.3],\n",
    "  [0, 1, 0, 0.1],  \n",
    "  [1, 0, 0, -0.3],\n",
    "  [0, 0, 0, 1],  \n",
    "])\n",
    "\n",
    "B = np.array([\n",
    "  [0, 0, -1, 0.3],\n",
    "  [0, 1, 0, 0.1],  \n",
    "  [1, 0, 0, 0.0],\n",
    "  [0, 0, 0, 1],  \n",
    "])\n",
    "\n",
    "C = np.array([\n",
    "  [0, 0, -1, 0.3],\n",
    "  [0, 1, 0, 0.3],  \n",
    "  [1, 0, 0, 0.0],\n",
    "  [0, 0, 0, 1],  \n",
    "])\n",
    "\n",
    "D = np.array([\n",
    "  [0, 0, -1, 0.3],\n",
    "  [0, 1, 0, 0.3],  \n",
    "  [1, 0, 0, -0.3],\n",
    "  [0, 0, 0, 1],  \n",
    "])"
   ]
  },
  {
   "cell_type": "code",
   "execution_count": 18,
   "metadata": {},
   "outputs": [],
   "source": [
    "try:\n",
    "    joint_pos_A = reachy.l_arm.inverse_kinematics(A)\n",
    "    joint_pos_B = reachy.l_arm.inverse_kinematics(B)\n",
    "    joint_pos_C = reachy.l_arm.inverse_kinematics(C)\n",
    "    joint_pos_D = reachy.l_arm.inverse_kinematics(D)\n",
    "except AttributeError:\n",
    "    print('Reachy has no left arm')"
   ]
  },
  {
   "cell_type": "code",
   "execution_count": 21,
   "metadata": {},
   "outputs": [],
   "source": [
    "# put the joints in stiff mode\n",
    "try:\n",
    "    reachy.turn_on('l_arm')\n",
    "\n",
    "    # use the goto function\n",
    "    goto({joint: pos for joint,pos in zip(reachy.l_arm.joints.values(), joint_pos_A)}, duration=1.0)\n",
    "    time.sleep(0.5)\n",
    "    goto({joint: pos for joint,pos in zip(reachy.l_arm.joints.values(), joint_pos_B)}, duration=1.0)\n",
    "    time.sleep(0.5)\n",
    "    goto({joint: pos for joint,pos in zip(reachy.l_arm.joints.values(), joint_pos_C)}, duration=1.0)\n",
    "    time.sleep(0.5)\n",
    "    goto({joint: pos for joint,pos in zip(reachy.l_arm.joints.values(), joint_pos_D)}, duration=1.0)\n",
    "\n",
    "    # put the joints back to compliant mode\n",
    "    # use turn_off_smoothly to prevent the arm from falling hard\n",
    "    reachy.turn_off_smoothly('l_arm')\n",
    "except AttributeError:\n",
    "    print('Reachy has no left arm!')"
   ]
  },
  {
   "cell_type": "markdown",
   "metadata": {},
   "source": [
    "## Head"
   ]
  },
  {
   "cell_type": "markdown",
   "metadata": {},
   "source": [
    "You should see one force sensor per arm, zith the *.force_sensors* object."
   ]
  },
  {
   "cell_type": "code",
   "execution_count": null,
   "metadata": {},
   "outputs": [],
   "source": [
    "def happy_antennas():\n",
    "    reachy.head.l_antenna.speed_limit = 0.0\n",
    "    reachy.head.r_antenna.speed_limit = 0.0\n",
    "    \n",
    "    for _ in range(9):\n",
    "        reachy.head.l_antenna.goal_position = 10.0\n",
    "        reachy.head.r_antenna.goal_position = -10.0\n",
    "\n",
    "        time.sleep(0.1)\n",
    "\n",
    "        reachy.head.l_antenna.goal_position = -10.0\n",
    "        reachy.head.r_antenna.goal_position = 10.0\n",
    "\n",
    "        time.sleep(0.1)\n",
    "    \n",
    "    reachy.head.l_antenna.goal_position = 0.0\n",
    "    reachy.head.r_antenna.goal_position = 0.0\n",
    "        \n",
    "def sad_antennas():\n",
    "    reachy.head.l_antenna.speed_limit = 70.0\n",
    "    reachy.head.r_antenna.speed_limit = 70.0\n",
    "    \n",
    "    reachy.head.l_antenna.goal_position = 140.0\n",
    "    reachy.head.r_antenna.goal_position = -140.0\n",
    "    \n",
    "    time.sleep(5.0)\n",
    "    \n",
    "    reachy.head.l_antenna.goal_position = 0.0\n",
    "    reachy.head.r_antenna.goal_position = 0.0\n"
   ]
  },
  {
   "cell_type": "code",
   "execution_count": null,
   "metadata": {},
   "outputs": [],
   "source": [
    "\n",
    "\n",
    "reachy.turn_on('head')"
   ]
  },
  {
   "cell_type": "code",
   "execution_count": null,
   "metadata": {},
   "outputs": [],
   "source": [
    "happy_antennas()\n"
   ]
  },
  {
   "cell_type": "code",
   "execution_count": null,
   "metadata": {},
   "outputs": [],
   "source": [
    "sad_antennas()"
   ]
  },
  {
   "cell_type": "code",
   "execution_count": null,
   "metadata": {},
   "outputs": [],
   "source": []
  },
  {
   "cell_type": "code",
   "execution_count": null,
   "metadata": {},
   "outputs": [],
   "source": []
  }
 ],
 "metadata": {
  "kernelspec": {
   "display_name": "Python 3",
   "language": "python",
   "name": "python3"
  },
  "language_info": {
   "codemirror_mode": {
    "name": "ipython",
    "version": 3
   },
   "file_extension": ".py",
   "mimetype": "text/x-python",
   "name": "python",
   "nbconvert_exporter": "python",
   "pygments_lexer": "ipython3",
   "version": "3.8.5"
  }
 },
 "nbformat": 4,
 "nbformat_minor": 5
}

{
 "cells": [
  {
   "cell_type": "markdown",
   "metadata": {},
   "source": [
    "## Reachy expressif correction "
   ]
  },
  {
   "cell_type": "code",
   "execution_count": null,
   "metadata": {},
   "outputs": [],
   "source": [
    "pygame.init()\n",
    "pygame.mixer.init()"
   ]
  },
  {
   "cell_type": "markdown",
   "metadata": {},
   "source": [
    "### La classe emotion : "
   ]
  },
  {
   "cell_type": "code",
   "execution_count": 1,
   "metadata": {},
   "outputs": [],
   "source": [
    "class Emotion : \n",
    "    def __init__(self, nom, mouvBras, mouvTete, son):\n",
    "        self.__nom = couleur\n",
    "        self.__mouvBras = mouvBras\n",
    "        self.__mouvTete = mouvTete\n",
    "        self.__son = son\n",
    "    \n",
    "    def modifProprio(self, proprietaire):\n",
    "        self.__couleur=couleur\n",
    "    \n",
    "    def affiche(self):\n",
    "        print(\"L'émotion est =\", self.__Nom)"
   ]
  },
  {
   "cell_type": "markdown",
   "metadata": {},
   "source": [
    "### Peur : "
   ]
  },
  {
   "cell_type": "code",
   "execution_count": null,
   "metadata": {},
   "outputs": [],
   "source": [
    "peur = Emotion('peur', mouvBrasPeur, mouvTetePeur,sonPeur )\n",
    "\n",
    "mouvBrasPeur = reachy.goto(\n",
    "    goal_positions={\n",
    "        'right_arm.elbow_pitch': 90,\n",
    "    },\n",
    "    duration=2,\n",
    "    wait=True,\n",
    ")\n",
    "\n",
    "mouvTetePeur = reachy.goto(\n",
    "    goal_positions={\n",
    "        'head.left_antenna': 0,\n",
    "        'head.right_antenna': 0,\n",
    "                },\n",
    "    duration=2,\n",
    "    wait=True,\n",
    ")\n",
    "\n",
    "sonPeur = pygame.mixer.Sound(\"son_peur.wav\")\n"
   ]
  },
  {
   "cell_type": "code",
   "execution_count": 4,
   "metadata": {},
   "outputs": [
    {
     "name": "stdout",
     "output_type": "stream",
     "text": [
      "ton nom?thea\n"
     ]
    }
   ],
   "source": [
    "a=input(\"ton nom? \")"
   ]
  },
  {
   "cell_type": "code",
   "execution_count": null,
   "metadata": {},
   "outputs": [],
   "source": []
  }
 ],
 "metadata": {
  "kernelspec": {
   "display_name": "Python 3",
   "language": "python",
   "name": "python3"
  },
  "language_info": {
   "codemirror_mode": {
    "name": "ipython",
    "version": 3
   },
   "file_extension": ".py",
   "mimetype": "text/x-python",
   "name": "python",
   "nbconvert_exporter": "python",
   "pygments_lexer": "ipython3",
   "version": "3.8.5"
  }
 },
 "nbformat": 4,
 "nbformat_minor": 4
}

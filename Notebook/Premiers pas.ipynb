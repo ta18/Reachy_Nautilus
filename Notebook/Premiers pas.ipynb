{
 "cells": [
  {
   "cell_type": "markdown",
   "metadata": {},
   "source": [
    "entete : \n",
    "- prérecquis :\n",
    "    - capsule : utiliser des notebook IPython\n",
    "    - capsule : Python, les bases\n",
    "    - capsule : Python les tableaux ndarray de numpy\n",
    "    - capsule : Python : tracé de courbes avec matplotlib\n",
    "    - capsule Pyton orinté objet (niveau débutant)\n",
    "        classe <=> type, encapsulation, objet instance (concrétisation) d'une classe, constructeur, \n",
    "        Objet : syntaxe  x = objet.attribut (read), objet.attribut = valeur (write) et objet.méthode(...)\n",
    "- Acquis d'apprentissage visés :\n",
    "à l'issue de cette activité , l'apprenant saura utiliser un cahier Ipython pour faire bouger le robot..:\n",
    "- faire bouger la tête \n",
    "- faire bouger un brs choisi\n",
    "- mettre le robot compliant ou non-compliant\n",
    "- tracer les courbes de ....\n"
   ]
  },
  {
   "cell_type": "markdown",
   "metadata": {},
   "source": [
    "### Prérecquis : \n",
    "- capsule *Configuration du robot*\n",
    "- capsule *Prise en main d'un notebook Jupyter*\n",
    "- capsule *Python : les bases*\n",
    "- capsule *Python Orienté Objet*\n",
    "\n",
    "### Acquis d'aprentissage visés : \n",
    "A l'issue de cette activité l'apprenant saura : \n",
    "- utiliser un notebook Jupyter pour faire bouger le robot \n",
    "- faire bouger la tête du robot\n",
    "- faire bouger un bras du robot \n",
    "- faire bouger les antennes du robot \n",
    "- mettre compliant ou non compliant le robot"
   ]
  },
  {
   "cell_type": "markdown",
   "metadata": {},
   "source": [
    "# Avant de commencer "
   ]
  },
  {
   "cell_type": "markdown",
   "metadata": {},
   "source": [
    "**Ce notebook doit être copier :** \n",
    "Cliquer sur *Fichier* --> *faire une copie*   \n",
    "Rendez-vous sur la copie du notebook que vous venez de faire dans le dossier Nautilus. "
   ]
  },
  {
   "cell_type": "markdown",
   "metadata": {},
   "source": [
    "**Renommer la copie** en cliquant sur le nom du fichier a droite du logo Jupyter. \n",
    "Forme du nom : *aa-mm-jjj.prenom.nom.ipynb*"
   ]
  },
  {
   "cell_type": "markdown",
   "metadata": {},
   "source": [
    "# Premier pas "
   ]
  },
  {
   "cell_type": "markdown",
   "metadata": {},
   "source": [
    "Ce notebook te permet de faire tes premiers pas en Python avec le robot Reachy. \n"
   ]
  },
  {
   "cell_type": "markdown",
   "metadata": {},
   "source": [
    "**Note:** Un seul notebook à la fois peut activer les moteurs du robot, assure-toi que personne d'autre n'est connecté sur le robot en même temps que toi dans la salle."
   ]
  },
  {
   "cell_type": "code",
   "execution_count": 1,
   "metadata": {},
   "outputs": [],
   "source": [
    "import time"
   ]
  },
  {
   "cell_type": "markdown",
   "metadata": {},
   "source": [
    "## Instancier l'objet Reachy"
   ]
  },
  {
   "cell_type": "code",
   "execution_count": 2,
   "metadata": {},
   "outputs": [],
   "source": [
    "from reachy_sdk import ReachySDK\n",
    "\n",
    "reachy = ReachySDK('localhost')"
   ]
  },
  {
   "cell_type": "markdown",
   "metadata": {},
   "source": [
    "L'objet Reachy à 8 attributs "
   ]
  },
  {
   "cell_type": "markdown",
   "metadata": {},
   "source": [
    "Lister les moteurs du bras : "
   ]
  },
  {
   "cell_type": "code",
   "execution_count": 3,
   "metadata": {},
   "outputs": [
    {
     "name": "stdout",
     "output_type": "stream",
     "text": [
      "right_arm.shoulder_pitch - pos:-7.4950000000000045\n",
      "right_arm.shoulder_roll - pos:0.3299999999999983\n",
      "right_arm.arm_yaw - pos:13.758\n",
      "right_arm.elbow_pitch - pos:-47.868\n",
      "right_arm.hand.forearm_yaw - pos:-0.44\n",
      "right_arm.hand.wrist_pitch - pos:-35.473\n",
      "right_arm.hand.wrist_roll - pos:19.208\n",
      "right_arm.hand.gripper - pos:8.651\n"
     ]
    }
   ],
   "source": [
    "reachy.r_arm"
   ]
  },
  {
   "cell_type": "markdown",
   "metadata": {},
   "source": [
    "Lister les moteurs de la tête : "
   ]
  },
  {
   "cell_type": "markdown",
   "metadata": {},
   "source": [
    "On peut afficher directement la liste des moteurs :"
   ]
  },
  {
   "cell_type": "code",
   "execution_count": 4,
   "metadata": {},
   "outputs": [
    {
     "data": {
      "text/plain": [
       "[<Orbita \"disk_top\" pos=\"-30.51000000000002>,\n",
       " <Orbita \"disk_middle\" pos=\"-95.94>,\n",
       " <Orbita \"disk_bottom\" pos=\"-67.464>]"
      ]
     },
     "execution_count": 4,
     "metadata": {},
     "output_type": "execute_result"
    }
   ],
   "source": [
    "reachy.head.neck.disks"
   ]
  },
  {
   "cell_type": "markdown",
   "metadata": {},
   "source": [
    "ou parcourir la liste et afficher séparément chacun des moteurs :"
   ]
  },
  {
   "cell_type": "code",
   "execution_count": 5,
   "metadata": {},
   "outputs": [
    {
     "name": "stdout",
     "output_type": "stream",
     "text": [
      "<Orbita \"disk_top\" pos=\"-30.51000000000002> 22.375\n",
      "<Orbita \"disk_middle\" pos=\"-95.94> 21.875\n",
      "<Orbita \"disk_bottom\" pos=\"-67.464> 21.938\n"
     ]
    }
   ],
   "source": [
    "reachy.head"
   ]
  },
  {
   "cell_type": "markdown",
   "metadata": {},
   "source": [
    "Tu peux bouger le bras et la tete et voir si les positions changent."
   ]
  },
  {
   "cell_type": "markdown",
   "metadata": {},
   "source": [
    "## Compliant ? "
   ]
  },
  {
   "cell_type": "markdown",
   "metadata": {},
   "source": [
    "Tête rigide : "
   ]
  },
  {
   "cell_type": "code",
   "execution_count": 1,
   "metadata": {},
   "outputs": [
    {
     "ename": "NameError",
     "evalue": "name 'reachy' is not defined",
     "output_type": "error",
     "traceback": [
      "\u001b[1;31m---------------------------------------------------------------------------\u001b[0m",
      "\u001b[1;31mNameError\u001b[0m                                 Traceback (most recent call last)",
      "\u001b[1;32m<ipython-input-1-6056c47ad720>\u001b[0m in \u001b[0;36m<module>\u001b[1;34m\u001b[0m\n\u001b[1;32m----> 1\u001b[1;33m \u001b[0mreachy\u001b[0m\u001b[1;33m.\u001b[0m\u001b[0mturn_on\u001b[0m\u001b[1;33m(\u001b[0m\u001b[1;34m'reachy'\u001b[0m\u001b[1;33m)\u001b[0m\u001b[1;33m\u001b[0m\u001b[1;33m\u001b[0m\u001b[0m\n\u001b[0m",
      "\u001b[1;31mNameError\u001b[0m: name 'reachy' is not defined"
     ]
    }
   ],
   "source": [
    "reachy.turn_off('head')"
   ]
  },
  {
   "cell_type": "markdown",
   "metadata": {},
   "source": [
    "Bras rigide : "
   ]
  },
  {
   "cell_type": "code",
   "execution_count": 2,
   "metadata": {},
   "outputs": [
    {
     "ename": "NameError",
     "evalue": "name 'reachy' is not defined",
     "output_type": "error",
     "traceback": [
      "\u001b[1;31m---------------------------------------------------------------------------\u001b[0m",
      "\u001b[1;31mNameError\u001b[0m                                 Traceback (most recent call last)",
      "\u001b[1;32m<ipython-input-2-6056c47ad720>\u001b[0m in \u001b[0;36m<module>\u001b[1;34m\u001b[0m\n\u001b[1;32m----> 1\u001b[1;33m \u001b[0mreachy\u001b[0m\u001b[1;33m.\u001b[0m\u001b[0mturn_on\u001b[0m\u001b[1;33m(\u001b[0m\u001b[1;34m'reachy'\u001b[0m\u001b[1;33m)\u001b[0m\u001b[1;33m\u001b[0m\u001b[1;33m\u001b[0m\u001b[0m\n\u001b[0m",
      "\u001b[1;31mNameError\u001b[0m: name 'reachy' is not defined"
     ]
    }
   ],
   "source": [
    "reachy.turn_on('r_arm')"
   ]
  },
  {
   "cell_type": "markdown",
   "metadata": {},
   "source": [
    "Tout le robot en mode rigide : "
   ]
  },
  {
   "cell_type": "code",
   "execution_count": null,
   "metadata": {},
   "outputs": [],
   "source": [
    "reachy.turn_on('reachy')"
   ]
  },
  {
   "cell_type": "markdown",
   "metadata": {},
   "source": [
    "Tout le robot en mode libre : "
   ]
  },
  {
   "cell_type": "code",
   "execution_count": null,
   "metadata": {},
   "outputs": [],
   "source": [
    "reachy.turn_off('reachy')"
   ]
  },
  {
   "cell_type": "markdown",
   "metadata": {},
   "source": [
    "## Bouger le bras"
   ]
  },
  {
   "cell_type": "markdown",
   "metadata": {},
   "source": [
    "#### Pour bouger le bras de Nemo on va changer la position de certain moteur : "
   ]
  },
  {
   "cell_type": "code",
   "execution_count": 3,
   "metadata": {},
   "outputs": [],
   "source": [
    "reachy.turn_on('r_arm')"
   ]
  },
  {
   "cell_type": "markdown",
   "metadata": {},
   "source": [
    "Ici on veut que le coude soit à 90° et les autres moteurs à leurs positions initiales: "
   ]
  },
  {
   "cell_type": "code",
   "execution_count": 4,
   "metadata": {},
   "outputs": [
    {
     "data": {
      "text/plain": [
       "[<reachy.trajectory.interpolation.Linear at 0xa2bf7b50>,\n",
       " <reachy.trajectory.interpolation.Linear at 0xb3e33f10>,\n",
       " <reachy.trajectory.interpolation.Linear at 0xa2bf7db0>,\n",
       " <reachy.trajectory.interpolation.Linear at 0xb34c9690>,\n",
       " <reachy.trajectory.interpolation.Linear at 0xb3e33eb0>,\n",
       " <reachy.trajectory.interpolation.Linear at 0xa2bf7f70>,\n",
       " <reachy.trajectory.interpolation.Linear at 0xa2c0d0f0>,\n",
       " <reachy.trajectory.interpolation.Linear at 0xb3e33990>]"
      ]
     },
     "execution_count": 4,
     "metadata": {},
     "output_type": "execute_result"
    }
   ],
   "source": [
    "goto(\n",
    "        goal_positions=\n",
    "            reachy.r_arm.r_shoulder_pitch: 0,\n",
    "            reachy.r_arm.r_shoulder_roll: 0,\n",
    "            reachy.r_arm.r_arm_yaw: 0,\n",
    "            reachy.r_arm.r_elbow_pitch: -90,\n",
    "            reachy.r_arm.r_forearm_yaw: 0,\n",
    "            reachy.r_arm.r_wrist_pitch: 0,\n",
    "            reachy.r_arm.r_wrist_roll: 0,\n",
    "        duration=1.0,\n",
    "        interpolation_mode=InterpolationMode.MINIMUM_JERK\n",
    "    )"
   ]
  },
  {
   "cell_type": "markdown",
   "metadata": {},
   "source": [
    "Si on avait voulu mettre que le coude à 90° : "
   ]
  },
  {
   "cell_type": "code",
   "execution_count": null,
   "metadata": {},
   "outputs": [],
   "source": [
    "goto(reachy.r_arm.r_elbow_pitch: -90,, duration=1.0, interpolation_mode=InterpolationMode.MINIMUM_JERK)"
   ]
  },
  {
   "cell_type": "code",
   "execution_count": 5,
   "metadata": {},
   "outputs": [],
   "source": [
    "reachy.turn_off('reachy')"
   ]
  },
  {
   "cell_type": "markdown",
   "metadata": {},
   "source": [
    "## Bouger la tête "
   ]
  },
  {
   "cell_type": "markdown",
   "metadata": {},
   "source": [
    "Aller à la position de base "
   ]
  },
  {
   "cell_type": "code",
   "execution_count": 4,
   "metadata": {},
   "outputs": [
    {
     "data": {
      "text/plain": [
       "[<reachy.trajectory.interpolation.MinimumJerk at 0xa2b17610>,\n",
       " <reachy.trajectory.interpolation.MinimumJerk at 0xa2b17530>,\n",
       " <reachy.trajectory.interpolation.MinimumJerk at 0xa2b174b0>]"
      ]
     },
     "execution_count": 4,
     "metadata": {},
     "output_type": "execute_result"
    }
   ],
   "source": [
    "reachy.turn_on('head')\n",
    "reachy.head.look_at(x=0.5, y=0, z=0, duration=1.0)"
   ]
  },
  {
   "cell_type": "markdown",
   "metadata": {},
   "source": [
    "**ATTENTION :** ne pas mettre la durée de déplacement trop courte "
   ]
  },
  {
   "cell_type": "markdown",
   "metadata": {},
   "source": [
    "## Bouger les antennes "
   ]
  },
  {
   "cell_type": "markdown",
   "metadata": {},
   "source": [
    "Lister les moteurs des antennes : "
   ]
  },
  {
   "cell_type": "code",
   "execution_count": 5,
   "metadata": {},
   "outputs": [
    {
     "data": {
      "text/plain": [
       "[<DxlMotor \"head.left_antenna\" pos=\"-0.733\" mode=\"stiff\">,\n",
       " <DxlMotor \"head.right_antenna\" pos=\"-1.613\" mode=\"stiff\">]"
      ]
     },
     "execution_count": 5,
     "metadata": {},
     "output_type": "execute_result"
    }
   ],
   "source": [
    "reachy.head"
   ]
  },
  {
   "cell_type": "markdown",
   "metadata": {},
   "source": [
    "Les rendrent non compliant"
   ]
  },
  {
   "cell_type": "code",
   "execution_count": 6,
   "metadata": {},
   "outputs": [],
   "source": [
    "reachy.turn_on('head')"
   ]
  },
  {
   "cell_type": "markdown",
   "metadata": {},
   "source": [
    "Mettre les antennes à la position 0° : "
   ]
  },
  {
   "cell_type": "code",
   "execution_count": 7,
   "metadata": {},
   "outputs": [],
   "source": [
    "reachy.head.l_antenna.speed_limit = 50.0\n",
    "reachy.head.r_antenna.speed_limit = 50.0"
   ]
  },
  {
   "cell_type": "code",
   "execution_count": 8,
   "metadata": {},
   "outputs": [],
   "source": [
    "reachy.head.l_antenna.goal_position = 0.0\n",
    "reachy.head.r_antenna.goal_position = 0.0"
   ]
  },
  {
   "cell_type": "markdown",
   "metadata": {},
   "source": [
    "Mettre les antennes à la position 45° : "
   ]
  },
  {
   "cell_type": "code",
   "execution_count": 9,
   "metadata": {},
   "outputs": [],
   "source": [
    "reachy.head.l_antenna.goal_position = 45.0\n",
    "reachy.head.r_antenna.goal_position = 45.0"
   ]
  },
  {
   "cell_type": "code",
   "execution_count": 10,
   "metadata": {},
   "outputs": [],
   "source": [
    "reachy.turn_off('reachy')"
   ]
  },
  {
   "cell_type": "code",
   "execution_count": null,
   "metadata": {},
   "outputs": [],
   "source": [
    "reachy.head."
   ]
  }
 ],
 "metadata": {
  "kernelspec": {
   "display_name": "Python 3",
   "language": "python",
   "name": "python3"
  },
  "language_info": {
   "codemirror_mode": {
    "name": "ipython",
    "version": 3
   },
   "file_extension": ".py",
   "mimetype": "text/x-python",
   "name": "python",
   "nbconvert_exporter": "python",
   "pygments_lexer": "ipython3",
   "version": "3.8.5"
  }
 },
 "nbformat": 4,
 "nbformat_minor": 4
}

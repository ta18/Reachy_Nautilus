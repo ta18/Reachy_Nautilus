{
 "cells": [
  {
   "cell_type": "markdown",
   "metadata": {},
   "source": [
    "### Prérecquis : \n",
    "- capsule *Configuration du robot*\n",
    "- capsule *Prise en main d'un notebook Jupyter*\n",
    "- capsule *Python : les bases*\n",
    "- capsule *Python : les tableaux ndarrays de numpy*\n",
    "- capsule *Python : tracé de courbes avec matplotlib*\n",
    "- capsule *Python Orienté Objet*\n",
    "\n",
    "### Acquis d'aprentissage visés : \n",
    "A l'issue de cette activité l'apprenant saura : \n",
    "- utiliser un notebook Jupyter pour faire bouger le robot \n",
    "- faire bouger le robot en utilisant TrajectoryRecorder"
   ]
  },
  {
   "cell_type": "markdown",
   "metadata": {},
   "source": [
    "## Enregistrer un mouvement et le reproduire\n"
   ]
  },
  {
   "cell_type": "code",
   "execution_count": 7,
   "metadata": {},
   "outputs": [],
   "source": [
    "import time \n",
    "\n",
    "from reachy_sdk import ReachySDK\n",
    "from reachy_sdk.trajectory import goto\n",
    "\n",
    "reachy = ReachySDK('localhost')"
   ]
  },
  {
   "cell_type": "markdown",
   "metadata": {},
   "source": [
    "Si l'on veut enregistrer les mouvements du bras : "
   ]
  },
  {
   "cell_type": "code",
   "execution_count": 9,
   "metadata": {},
   "outputs": [],
   "source": [
    "recorded_joints = [\n",
    "    reachy.r_arm.r_shoulder_pitch,\n",
    "    reachy.r_arm.r_shoulder_roll,\n",
    "    reachy.r_arm.r_arm_yaw,\n",
    "    reachy.r_arm.r_elbow_pitch,\n",
    "    reachy.r_arm.r_forearm_yaw,\n",
    "    reachy.r_arm.r_wrist_pitch,\n",
    "    reachy.r_arm.r_wrist_roll,\n",
    "]\n",
    "\n",
    "sampling_frequency = 100  # en hertz\n",
    "record_duration = 10  # en seconde"
   ]
  },
  {
   "cell_type": "markdown",
   "metadata": {},
   "source": [
    "Le programme va enregistrer les déplacements du robot pendant 10 secondes. Fait attention a ce que le robot se trouve dans un endroit ou il peut bouger librement sans objets ou obstacles autour de lui.\n"
   ]
  },
  {
   "cell_type": "code",
   "execution_count": null,
   "metadata": {},
   "outputs": [],
   "source": [
    "reachy.turn_off('r_arm')"
   ]
  },
  {
   "cell_type": "code",
   "execution_count": 10,
   "metadata": {},
   "outputs": [],
   "source": [
    "trajectories = []\n",
    "\n",
    "start = time.time() #seconde passées depuis epoch\n",
    "while (time.time() - start) < record_duration:\n",
    "    # We here get the present position for all of recorded joints\n",
    "    current_point = [joint.present_position for joint in recorded_joints]\n",
    "    # Add this point to the already recorded trajectories\n",
    "    trajectories.append(current_point)\n",
    "\n",
    "    time.sleep(1 / sampling_frequency)"
   ]
  },
  {
   "cell_type": "markdown",
   "metadata": {},
   "source": [
    "Remttre le robot en mode non compliant"
   ]
  },
  {
   "cell_type": "code",
   "execution_count": 11,
   "metadata": {},
   "outputs": [],
   "source": [
    "reachy.turn_on('r_arm')"
   ]
  },
  {
   "cell_type": "markdown",
   "metadata": {},
   "source": [
    "Lancer l'enregistrement du bras "
   ]
  },
  {
   "cell_type": "code",
   "execution_count": 12,
   "metadata": {},
   "outputs": [],
   "source": [
    "# Set all used joint stiff\n",
    "for joint in recorded_joints:\n",
    "    joint.compliant = False\n",
    "\n",
    "# Create a dict associating a joint to its first recorded position\n",
    "first_point = dict(zip(recorded_joints, trajectories[0]))\n",
    "\n",
    "# Goes to the start of the trajectory in 3s\n",
    "goto(first_point, duration=3.0)"
   ]
  },
  {
   "cell_type": "code",
   "execution_count": 13,
   "metadata": {},
   "outputs": [],
   "source": [
    "for joints_positions in trajectories:\n",
    "    for joint, pos in zip(recorded_joints, joints_positions):\n",
    "        joint.goal_position = pos\n",
    "\n",
    "    time.sleep(1 / sampling_frequency)"
   ]
  },
  {
   "cell_type": "code",
   "execution_count": null,
   "metadata": {},
   "outputs": [],
   "source": [
    "reachy.turn_off('r_arm')"
   ]
  }
 ],
 "metadata": {
  "kernelspec": {
   "display_name": "Python 3",
   "language": "python",
   "name": "python3"
  },
  "language_info": {
   "codemirror_mode": {
    "name": "ipython",
    "version": 3
   },
   "file_extension": ".py",
   "mimetype": "text/x-python",
   "name": "python",
   "nbconvert_exporter": "python",
   "pygments_lexer": "ipython3",
   "version": "3.8.5"
  }
 },
 "nbformat": 4,
 "nbformat_minor": 4
}

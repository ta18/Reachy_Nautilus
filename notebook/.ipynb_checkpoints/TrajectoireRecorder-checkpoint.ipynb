{
 "cells": [
  {
   "cell_type": "markdown",
   "metadata": {},
   "source": [
    "### Prérecquis : \n",
    "- capsule *Configuration du robot*\n",
    "- capsule *Prise en main d'un notebook Jupyter*\n",
    "- capsule *Python : les bases*\n",
    "- capsule *Python : les tableaux ndarrays de numpy*\n",
    "- capsule *Python : tracé de courbes avec matplotlib*\n",
    "- capsule *Python Orienté Objet*\n",
    "\n",
    "### Acquis d'aprentissage visés : \n",
    "A l'issue de cette activité l'apprenant saura : \n",
    "- utiliser un notebook Jupyter pour faire bouger le robot \n",
    "- faire bouger le robot en utilisant TrajectoryRecorder"
   ]
  },
  {
   "cell_type": "markdown",
   "metadata": {},
   "source": [
    "## Enregistrer un mouvement et le reproduire\n"
   ]
  },
  {
   "cell_type": "code",
   "execution_count": null,
   "metadata": {},
   "outputs": [],
   "source": [
    "from reachy.trajectory import TrajectoryRecorder, TrajectoryPlayer"
   ]
  },
  {
   "cell_type": "code",
   "execution_count": null,
   "metadata": {},
   "outputs": [],
   "source": [
    "recorder = TrajectoryRecorder(reachy.right_arm.motors)"
   ]
  },
  {
   "cell_type": "markdown",
   "metadata": {},
   "source": [
    "Le programme va enregistrer les déplacements du robot pendant 10 secondes. Fait attention a ce que le robot se trouve dans un endroit ou il peut bouger librement sans objets ou obstacles autour de lui.\n"
   ]
  },
  {
   "cell_type": "code",
   "execution_count": null,
   "metadata": {},
   "outputs": [],
   "source": [
    "recorder.start()\n",
    "time.sleep(10)\n",
    "recorder.stop()"
   ]
  },
  {
   "cell_type": "markdown",
   "metadata": {},
   "source": [
    "Remttre le robot en mode non compliant"
   ]
  },
  {
   "cell_type": "code",
   "execution_count": null,
   "metadata": {},
   "outputs": [],
   "source": [
    "for m in reachy.right_arm.motors:\n",
    "    m.compliant = False"
   ]
  },
  {
   "cell_type": "markdown",
   "metadata": {},
   "source": [
    "Lancer l'enregistrement du bras "
   ]
  },
  {
   "cell_type": "code",
   "execution_count": null,
   "metadata": {},
   "outputs": [],
   "source": [
    "player = TrajectoryPlayer(reachy, recorder.trajectories)\n",
    "player.play(wait=True, fade_in_duration=3)"
   ]
  },
  {
   "cell_type": "code",
   "execution_count": null,
   "metadata": {},
   "outputs": [],
   "source": [
    "for m in reachy.right_arm.motors:\n",
    "    m.compliant = True"
   ]
  }
 ],
 "metadata": {
  "kernelspec": {
   "display_name": "Python 3",
   "language": "python",
   "name": "python3"
  },
  "language_info": {
   "codemirror_mode": {
    "name": "ipython",
    "version": 3
   },
   "file_extension": ".py",
   "mimetype": "text/x-python",
   "name": "python",
   "nbconvert_exporter": "python",
   "pygments_lexer": "ipython3",
   "version": "3.8.5"
  }
 },
 "nbformat": 4,
 "nbformat_minor": 4
}

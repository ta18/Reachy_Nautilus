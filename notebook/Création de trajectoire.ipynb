{
 "cells": [
  {
   "cell_type": "markdown",
   "metadata": {},
   "source": [
    "### Prérecquis : \n",
    "- capsule *Configuration du robot*\n",
    "- capsule *Prise en main d'un notebook Jupyter*\n",
    "- capsule *Python : les bases*\n",
    "- capsule *Python : les tableaux ndarrays de numpy*\n",
    "- capsule *Python : tracé de courbes avec matplotlib*\n",
    "- capsule *Python Orienté Objet*\n",
    "\n",
    "### Acquis d'aprentissage visés : \n",
    "A l'issue de cette activité l'apprenant saura : \n",
    "- utiliser un notebook Jupyter pour faire bouger le robot \n",
    "- faire bouger le robot en utilisant TrajectoryRecorder"
   ]
  },
  {
   "cell_type": "markdown",
   "metadata": {},
   "source": [
    "## Créer une trajectoire "
   ]
  },
  {
   "cell_type": "code",
   "execution_count": 1,
   "metadata": {},
   "outputs": [],
   "source": [
    "import time\n",
    "import cv2 as cv\n",
    "import numpy as np\n",
    "import time\n",
    "\n",
    "\n",
    "from matplotlib import pyplot as plt"
   ]
  },
  {
   "cell_type": "code",
   "execution_count": 2,
   "metadata": {},
   "outputs": [],
   "source": [
    "from reachy import Reachy, parts \n",
    "\n",
    "reachy = Reachy(\n",
    "    right_arm=parts.RightArm(io='/dev/ttyUSB*', hand='force_gripper'),\n",
    "    head=parts.Head(io='/dev/ttyUSB*'),\n",
    ")"
   ]
  },
  {
   "cell_type": "markdown",
   "metadata": {},
   "source": [
    "Trajectoire point par point pour le bras: "
   ]
  },
  {
   "cell_type": "code",
   "execution_count": null,
   "metadata": {},
   "outputs": [],
   "source": [
    "for m in reachy.right_arm.motors:\n",
    "    m.compliant = False\n",
    "\n",
    "reachy.goto({\n",
    "    'right_arm.shoulder_pitch': 0,\n",
    "    'right_arm.shoulder_roll': 0,\n",
    "    'right_arm.arm_yaw': 0,    \n",
    "    'right_arm.elbow_pitch': -90,\n",
    "    'right_arm.hand.forearm_yaw': 0,\n",
    "    'right_arm.hand.wrist_pitch': 0,\n",
    "    'right_arm.hand.wrist_roll': 0,\n",
    "    'right_arm.hand.gripper': 0,\n",
    "}, duration=3, wait=True)\n",
    "\n",
    "reachy.goto({\n",
    "    'right_arm.shoulder_pitch': 0,\n",
    "    'right_arm.shoulder_roll': 0,\n",
    "    'right_arm.arm_yaw': 0,    \n",
    "    'right_arm.elbow_pitch': -90,\n",
    "    'right_arm.hand.forearm_yaw': 0,\n",
    "    'right_arm.hand.wrist_pitch': 0,\n",
    "    'right_arm.hand.wrist_roll': 0,\n",
    "    'right_arm.hand.gripper': 0,\n",
    "}, duration=3, wait=True)\n",
    "\n",
    "reachy.goto({\n",
    "    'right_arm.shoulder_pitch': 0,\n",
    "    'right_arm.shoulder_roll': 0,\n",
    "    'right_arm.arm_yaw': 0,    \n",
    "    'right_arm.elbow_pitch': -90,\n",
    "    'right_arm.hand.forearm_yaw': 0,\n",
    "    'right_arm.hand.wrist_pitch': 0,\n",
    "    'right_arm.hand.wrist_roll': 0,\n",
    "    'right_arm.hand.gripper': 0,\n",
    "}, duration=3, wait=True)"
   ]
  },
  {
   "cell_type": "markdown",
   "metadata": {},
   "source": [
    "Trajectoire aléatoire pour la tête : "
   ]
  },
  {
   "cell_type": "code",
   "execution_count": 5,
   "metadata": {},
   "outputs": [],
   "source": [
    "reachy.head.compliant = True"
   ]
  },
  {
   "cell_type": "code",
   "execution_count": 6,
   "metadata": {},
   "outputs": [
    {
     "data": {
      "text/plain": [
       "[<matplotlib.lines.Line2D at 0xa09d09f0>,\n",
       " <matplotlib.lines.Line2D at 0xa09d0a50>,\n",
       " <matplotlib.lines.Line2D at 0xa09d0ab0>]"
      ]
     },
     "execution_count": 6,
     "metadata": {},
     "output_type": "execute_result"
    },
    {
     "data": {
      "image/png": "[encoded data removed]",
      "text/plain": [
       "<Figure size 432x288 with 1 Axes>"
      ]
     },
     "metadata": {
      "needs_background": "light"
     },
     "output_type": "display_data"
    }
   ],
   "source": [
    "x = 0.5\n",
    "y = (2 * np.random.rand() - 1) * 0.25\n",
    "z = (2 * np.random.rand() - 1) * 0.25\n",
    "\n",
    "duration = 1\n",
    "\n",
    "reachy.head.look_at(x, y, z, duration=duration, wait=False)\n",
    "\n",
    "real = []\n",
    "\n",
    "t0 = time.time()\n",
    "while time.time() - t0 < duration:\n",
    "    real.append([d.rot_position for d in reachy.head.neck.disks])\n",
    "    time.sleep(0.01)\n",
    "    \n",
    "plt.figure()\n",
    "plt.plot(real)"
   ]
  },
  {
   "cell_type": "markdown",
   "metadata": {},
   "source": [
    "Trajectoire qui suit une courbe sinus pour les antennes : "
   ]
  },
  {
   "cell_type": "code",
   "execution_count": 3,
   "metadata": {},
   "outputs": [],
   "source": [
    "for m in reachy.head.motors:\n",
    "    m.compliant = False\n",
    "    \n",
    "t = np.linspace(0, 10, 1000)\n",
    "pos = 30 * np.sin(2 * np.pi * 0.5 * t)\n",
    "\n",
    "for p in pos:\n",
    "    for m in reachy.head.motors:\n",
    "        m.goal_position = p\n",
    "    time.sleep(0.01)"
   ]
  },
  {
   "cell_type": "markdown",
   "metadata": {},
   "source": [
    "## A toi de jouer ! "
   ]
  },
  {
   "cell_type": "markdown",
   "metadata": {},
   "source": [
    "Créer ta propre trajectoire pour Nemo "
   ]
  },
  {
   "cell_type": "markdown",
   "metadata": {},
   "source": [
    "Scénarios ? "
   ]
  },
  {
   "cell_type": "code",
   "execution_count": null,
   "metadata": {},
   "outputs": [],
   "source": []
  }
 ],
 "metadata": {
  "kernelspec": {
   "display_name": "Python 3",
   "language": "python",
   "name": "python3"
  },
  "language_info": {
   "codemirror_mode": {
    "name": "ipython",
    "version": 3
   },
   "file_extension": ".py",
   "mimetype": "text/x-python",
   "name": "python",
   "nbconvert_exporter": "python",
   "pygments_lexer": "ipython3",
   "version": "3.7.3"
  }
 },
 "nbformat": 4,
 "nbformat_minor": 4
}

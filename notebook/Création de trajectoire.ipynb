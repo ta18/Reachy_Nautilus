{
 "cells": [
  {
   "cell_type": "markdown",
   "metadata": {},
   "source": [
    "### Prérecquis : \n",
    "- capsule *Configuration du robot*\n",
    "- capsule *Prise en main d'un notebook Jupyter*\n",
    "- capsule *Python : les bases*\n",
    "- capsule *Python : les tableaux ndarrays de numpy*\n",
    "- capsule *Python : tracé de courbes avec matplotlib*\n",
    "- capsule *Python Orienté Objet*\n",
    "\n",
    "### Acquis d'aprentissage visés : \n",
    "A l'issue de cette activité l'apprenant saura : \n",
    "- utiliser un notebook Jupyter pour faire bouger le robot \n",
    "- faire bouger le robot en utilisant les méthodes Reachy"
   ]
  },
  {
   "cell_type": "markdown",
   "metadata": {},
   "source": [
    "## Créer une trajectoire "
   ]
  },
  {
   "cell_type": "code",
   "execution_count": 1,
   "metadata": {},
   "outputs": [],
   "source": [
    "import time\n",
    "import numpy as np\n",
    "\n",
    "\n",
    "from matplotlib import pyplot as plt"
   ]
  },
  {
   "cell_type": "code",
   "execution_count": 2,
   "metadata": {},
   "outputs": [],
   "source": [
    "from reachy_sdk import ReachySDK\n",
    "\n",
    "reachy = ReachySDK('localhost')"
   ]
  },
  {
   "cell_type": "markdown",
   "metadata": {},
   "source": [
    "#### Trajectoire point par point pour le bras: "
   ]
  },
  {
   "cell_type": "code",
   "execution_count": 10,
   "metadata": {},
   "outputs": [],
   "source": [
    "reachy.turn_on('head')"
   ]
  },
  {
   "cell_type": "code",
   "execution_count": 4,
   "metadata": {},
   "outputs": [
    {
     "name": "stdout",
     "output_type": "stream",
     "text": [
      "right_arm.shoulder_pitch - pos:12.373999999999995 temp:40.0\n",
      "right_arm.shoulder_roll - pos:-4.153999999999996 temp:40.0\n",
      "right_arm.arm_yaw - pos:-8.484 temp:40.0\n",
      "right_arm.elbow_pitch - pos:-74.418 temp:35.0\n",
      "right_arm.hand.forearm_yaw - pos:1.906 temp:35.0\n",
      "right_arm.hand.wrist_pitch - pos:-25.275 temp:37.0\n",
      "right_arm.hand.wrist_roll - pos:0.733 temp:37.0\n",
      "right_arm.hand.gripper - pos:13.93 temp:37.0\n"
     ]
    }
   ],
   "source": [
    "reachy"
   ]
  },
  {
   "cell_type": "code",
   "execution_count": 11,
   "metadata": {},
   "outputs": [
    {
     "data": {
      "text/plain": [
       "False"
      ]
     },
     "execution_count": 11,
     "metadata": {},
     "output_type": "execute_result"
    }
   ],
   "source": [
    "goto({\n",
    "    'right_arm.shoulder_pitch': 0,\n",
    "    'right_arm.shoulder_roll': 0,\n",
    "    'right_arm.arm_yaw': 0,    \n",
    "    'right_arm.elbow_pitch': -90,\n",
    "    'right_arm.hand.forearm_yaw': 0,\n",
    "    'right_arm.hand.wrist_pitch': 0,\n",
    "    'right_arm.hand.wrist_roll': 0,\n",
    "    'right_arm.hand.gripper': 0,\n",
    "}, duration=3, wait=True)\n",
    "\n",
    "reachy.right_arm.hand.forearm_yaw.goto(20, duration=2, wait=False)\n",
    "\n",
    "reachy.right_arm.arm_yaw.goto(-10, duration=2, wait=False)\n",
    "\n",
    "reachy.right_arm.hand.open()\n",
    "time.sleep(5)\n",
    "reachy.right_arm.hand.close()\n"
   ]
  },
  {
   "cell_type": "code",
   "execution_count": 12,
   "metadata": {},
   "outputs": [],
   "source": [
    "for m in reachy.right_arm.motors:\n",
    "    m.compliant = True"
   ]
  },
  {
   "cell_type": "markdown",
   "metadata": {},
   "source": [
    "#### Trajectoire aléatoire pour la tête : "
   ]
  },
  {
   "cell_type": "code",
   "execution_count": 16,
   "metadata": {},
   "outputs": [
    {
     "data": {
      "text/plain": [
       "[<matplotlib.lines.Line2D at 0xa2167cf0>,\n",
       " <matplotlib.lines.Line2D at 0xa2167eb0>,\n",
       " <matplotlib.lines.Line2D at 0xa2167ed0>]"
      ]
     },
     "execution_count": 16,
     "metadata": {},
     "output_type": "execute_result"
    },
    {
     "data": {
      "image/png": "[encoded data removed]",
      "text/plain": [
       "<Figure size 432x288 with 1 Axes>"
      ]
     },
     "metadata": {
      "needs_background": "light"
     },
     "output_type": "display_data"
    }
   ],
   "source": [
    "reachy.head.compliant = False\n",
    "\n",
    "x = 0.5\n",
    "y = (2 * np.random.rand() - 1) * 0.25\n",
    "z = (2 * np.random.rand() - 1) * 0.25\n",
    "\n",
    "duration = 1\n",
    " \n",
    "reachy.head.look_at(x, y, z, duration=duration, wait=False)\n",
    "\n",
    "real = []\n",
    "\n",
    "t0 = time.time()\n",
    "while time.time() - t0 < duration:\n",
    "    real.append([d.rot_position for d in reachy.head.neck.disks])\n",
    "    time.sleep(0.01)\n",
    "    \n",
    "plt.figure()\n",
    "plt.plot(real)"
   ]
  },
  {
   "cell_type": "code",
   "execution_count": 15,
   "metadata": {},
   "outputs": [],
   "source": [
    "reachy.head.compliant = True"
   ]
  },
  {
   "cell_type": "markdown",
   "metadata": {},
   "source": [
    "#### Trajectoire qui suit une courbe sinus pour les antennes : "
   ]
  },
  {
   "cell_type": "code",
   "execution_count": 17,
   "metadata": {},
   "outputs": [],
   "source": [
    "for m in reachy.head.motors:\n",
    "    m.compliant = False\n",
    "    \n",
    "t = np.linspace(0, 10, 1000)\n",
    "pos = 30 * np.sin(2 * np.pi * 0.5 * t)\n",
    "\n",
    "for p in pos:\n",
    "    for m in reachy.head.motors:\n",
    "        m.goal_position = p\n",
    "    time.sleep(0.01)"
   ]
  },
  {
   "cell_type": "code",
   "execution_count": 48,
   "metadata": {},
   "outputs": [],
   "source": [
    "reachy.head.compliant = True"
   ]
  },
  {
   "cell_type": "markdown",
   "metadata": {},
   "source": [
    "## A toi de jouer ! "
   ]
  },
  {
   "cell_type": "markdown",
   "metadata": {},
   "source": [
    "Maintenant que tu sais tout sur les mouvements de Nemo, créer ta propre trajectoire en utilisant une des techniques énoncée plus haut.  "
   ]
  },
  {
   "cell_type": "code",
   "execution_count": null,
   "metadata": {},
   "outputs": [],
   "source": []
  },
  {
   "cell_type": "code",
   "execution_count": null,
   "metadata": {},
   "outputs": [],
   "source": []
  }
 ],
 "metadata": {
  "kernelspec": {
   "display_name": "Python 3",
   "language": "python",
   "name": "python3"
  },
  "language_info": {
   "codemirror_mode": {
    "name": "ipython",
    "version": 3
   },
   "file_extension": ".py",
   "mimetype": "text/x-python",
   "name": "python",
   "nbconvert_exporter": "python",
   "pygments_lexer": "ipython3",
   "version": "3.8.5"
  }
 },
 "nbformat": 4,
 "nbformat_minor": 4
}

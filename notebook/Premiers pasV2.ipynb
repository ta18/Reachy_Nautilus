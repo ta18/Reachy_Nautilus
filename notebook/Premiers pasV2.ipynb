{
 "cells": [
  {
   "cell_type": "markdown",
   "metadata": {},
   "source": [
    "entete : \n",
    "- prérecquis :\n",
    "    - capsule : utiliser des notebook IPython\n",
    "    - capsule : Python, les bases\n",
    "    - capsule : Python les tableaux ndarray de numpy\n",
    "    - capsule : Python : tracé de courbes avec matplotlib\n",
    "    - capsule Pyton orinté objet (niveau débutant)\n",
    "        classe <=> type, encapsulation, objet instance (concrétisation) d'une classe, constructeur, \n",
    "        Objet : syntaxe  x = objet.attribut (read), objet.attribut = valeur (write) et objet.méthode(...)\n",
    "- Acquis d'apprentissage visés :\n",
    "à l'issue de cette activité , l'apprenant saura utiliser un cahier Ipython pour faire bouger le robot..:\n",
    "- faire bouger la tête \n",
    "- faire bouger un brs choisi\n",
    "- mettre le robot compliant ou non-compliant\n",
    "- tracer les courbes de ....\n"
   ]
  },
  {
   "cell_type": "markdown",
   "metadata": {},
   "source": [
    "### Prérecquis : \n",
    "- capsule *Configuration du robot*\n",
    "- capsule *Prise en main d'un notebook Jupyter*\n",
    "- capsule *Python : les bases*\n",
    "- capsule *Python Orienté Objet*\n",
    "\n",
    "### Acquis d'aprentissage visés : \n",
    "A l'issue de cette activité l'apprenant saura : \n",
    "- utiliser un notebook Jupyter pour faire bouger le robot \n",
    "- faire bouger la tête du robot\n",
    "- faire bouger un bras du robot \n",
    "- faire bouger les antennes du robot \n",
    "- mettre compliant ou non compliant le robot"
   ]
  },
  {
   "cell_type": "markdown",
   "metadata": {},
   "source": [
    "# Avant de commencer "
   ]
  },
  {
   "cell_type": "markdown",
   "metadata": {},
   "source": [
    "**Ce notebook doit être copier :** \n",
    "Cliquer sur *Fichier* --> *faire une copie*   \n",
    "Rendez-vous sur la copie du notebook que vous venez de faire dans le dossier Nautilus. "
   ]
  },
  {
   "cell_type": "markdown",
   "metadata": {},
   "source": [
    "**Renommer la copie** en cliquant sur le nom du fichier a droite du logo Jupyter. \n",
    "Forme du nom : *aa-mm-jjj.prenom.nom.ipynb*"
   ]
  },
  {
   "cell_type": "markdown",
   "metadata": {},
   "source": [
    "# Premier pas "
   ]
  },
  {
   "cell_type": "markdown",
   "metadata": {},
   "source": [
    "Ce notebook te permet de faire tes premiers pas en Python avec le robot Reachy. \n"
   ]
  },
  {
   "cell_type": "markdown",
   "metadata": {},
   "source": [
    "**Note:** Un seul notebook à la fois peut activer les moteurs du robot, assure-toi que personne d'autre n'est connecté sur le robot en même temps que toi dans la salle."
   ]
  },
  {
   "cell_type": "code",
   "execution_count": 22,
   "metadata": {},
   "outputs": [],
   "source": [
    "import time"
   ]
  },
  {
   "cell_type": "markdown",
   "metadata": {},
   "source": [
    "## Instancier l'objet Reachy"
   ]
  },
  {
   "cell_type": "code",
   "execution_count": 23,
   "metadata": {},
   "outputs": [],
   "source": [
    "from reachy import Reachy, parts \n",
    "\n",
    "reachy = Reachy(\n",
    "    right_arm=parts.RightArm(io='/dev/ttyUSB*', hand='force_gripper'),\n",
    "    head=parts.Head(io='/dev/ttyUSB*'),\n",
    ")"
   ]
  },
  {
   "cell_type": "markdown",
   "metadata": {},
   "source": [
    "Lister les moteurs du bras : "
   ]
  },
  {
   "cell_type": "code",
   "execution_count": 24,
   "metadata": {},
   "outputs": [
    {
     "name": "stdout",
     "output_type": "stream",
     "text": [
      "right_arm.shoulder_pitch - pos:-4.7690000000000055\n",
      "right_arm.shoulder_roll - pos:-0.9009999999999962\n",
      "right_arm.arm_yaw - pos:31.341\n",
      "right_arm.elbow_pitch - pos:-50.857\n",
      "right_arm.hand.forearm_yaw - pos:1.026\n",
      "right_arm.hand.wrist_pitch - pos:-39.516\n",
      "right_arm.hand.wrist_roll - pos:3.079\n",
      "right_arm.hand.gripper - pos:-4.252\n"
     ]
    }
   ],
   "source": [
    "for m in reachy.right_arm.motors:\n",
    "    print(f'{m.name} - pos:{m.present_position}')"
   ]
  },
  {
   "cell_type": "markdown",
   "metadata": {},
   "source": [
    "Lister les moteurs de la tête : "
   ]
  },
  {
   "cell_type": "markdown",
   "metadata": {},
   "source": [
    "On peut afficher directement la liste des moteurs :"
   ]
  },
  {
   "cell_type": "code",
   "execution_count": 25,
   "metadata": {},
   "outputs": [
    {
     "data": {
      "text/plain": [
       "[<Orbita \"disk_top\" pos=\"-42.23300000000002>,\n",
       " <Orbita \"disk_middle\" pos=\"-107.461>,\n",
       " <Orbita \"disk_bottom\" pos=\"-76.18599999999999>]"
      ]
     },
     "execution_count": 25,
     "metadata": {},
     "output_type": "execute_result"
    }
   ],
   "source": [
    "reachy.head.neck.disks"
   ]
  },
  {
   "cell_type": "markdown",
   "metadata": {},
   "source": [
    "ou parcourir la liste et afficher séparément chacun des moteurs :"
   ]
  },
  {
   "cell_type": "code",
   "execution_count": 26,
   "metadata": {},
   "outputs": [
    {
     "name": "stdout",
     "output_type": "stream",
     "text": [
      "<Orbita \"disk_top\" pos=\"-42.23300000000002> 13.438\n",
      "<Orbita \"disk_middle\" pos=\"-107.461> 28.938\n",
      "<Orbita \"disk_bottom\" pos=\"-76.18599999999999> 28.75\n"
     ]
    }
   ],
   "source": [
    "for d in reachy.head.neck.disks:\n",
    "    print(d, d.temperature)"
   ]
  },
  {
   "cell_type": "markdown",
   "metadata": {},
   "source": [
    "Tu peux bouger le bras et la tete et voir si les positions changent."
   ]
  },
  {
   "cell_type": "markdown",
   "metadata": {},
   "source": [
    "## Compliant ? "
   ]
  },
  {
   "cell_type": "markdown",
   "metadata": {},
   "source": [
    "Bras et tête compliant : "
   ]
  },
  {
   "cell_type": "code",
   "execution_count": 7,
   "metadata": {},
   "outputs": [],
   "source": [
    "for m in reachy.right_arm.motors:\n",
    "    m.compliant = True\n",
    "    \n",
    "reachy.head.compliant = True"
   ]
  },
  {
   "cell_type": "markdown",
   "metadata": {},
   "source": [
    "Bras et tête non compliant : "
   ]
  },
  {
   "cell_type": "code",
   "execution_count": 17,
   "metadata": {},
   "outputs": [],
   "source": [
    "for m in reachy.right_arm.motors:\n",
    "    m.compliant = False\n",
    "\n",
    "reachy.head.compliant = False"
   ]
  },
  {
   "cell_type": "markdown",
   "metadata": {},
   "source": [
    "## Bouger le bras"
   ]
  },
  {
   "cell_type": "markdown",
   "metadata": {},
   "source": [
    "#### Pour bouger le bras de Nemo on va changer la position de certain moteur : "
   ]
  },
  {
   "cell_type": "code",
   "execution_count": 27,
   "metadata": {},
   "outputs": [],
   "source": [
    "for m in reachy.right_arm.motors:\n",
    "    m.compliant = False"
   ]
  },
  {
   "cell_type": "markdown",
   "metadata": {},
   "source": [
    "Ici on veut que le coude soit à 90° et les autres moteurs à leurs positions initiales: "
   ]
  },
  {
   "cell_type": "code",
   "execution_count": 28,
   "metadata": {},
   "outputs": [
    {
     "data": {
      "text/plain": [
       "[<reachy.trajectory.interpolation.Linear at 0xa3aebbf0>,\n",
       " <reachy.trajectory.interpolation.Linear at 0xa4c58af0>,\n",
       " <reachy.trajectory.interpolation.Linear at 0xa3aebd90>,\n",
       " <reachy.trajectory.interpolation.Linear at 0xa3aebef0>,\n",
       " <reachy.trajectory.interpolation.Linear at 0xa3aebff0>,\n",
       " <reachy.trajectory.interpolation.Linear at 0xb3dcc0b0>,\n",
       " <reachy.trajectory.interpolation.Linear at 0xa4c42f30>,\n",
       " <reachy.trajectory.interpolation.Linear at 0xb3d72270>]"
      ]
     },
     "execution_count": 28,
     "metadata": {},
     "output_type": "execute_result"
    }
   ],
   "source": [
    "reachy.goto({\n",
    "    'right_arm.shoulder_pitch': 0,\n",
    "    'right_arm.shoulder_roll': 0,\n",
    "    'right_arm.arm_yaw': 0,    \n",
    "    'right_arm.elbow_pitch': -90,\n",
    "    'right_arm.hand.forearm_yaw': 0,\n",
    "    'right_arm.hand.wrist_pitch': 0,\n",
    "    'right_arm.hand.wrist_roll': 0,\n",
    "    'right_arm.hand.gripper': 0,\n",
    "}, duration=3, wait=True)"
   ]
  },
  {
   "cell_type": "markdown",
   "metadata": {},
   "source": [
    "Si on avait voulu mettre que le coude à 90° : "
   ]
  },
  {
   "cell_type": "code",
   "execution_count": 6,
   "metadata": {},
   "outputs": [
    {
     "data": {
      "text/plain": [
       "<reachy.trajectory.interpolation.Linear at 0xa4cafcf0>"
      ]
     },
     "execution_count": 6,
     "metadata": {},
     "output_type": "execute_result"
    }
   ],
   "source": [
    "reachy.right_arm.elbow_pitch.goto(goal_position=-90, duration=3, wait=True)"
   ]
  },
  {
   "cell_type": "code",
   "execution_count": 29,
   "metadata": {},
   "outputs": [],
   "source": [
    "for m in reachy.right_arm.motors:\n",
    "    m.compliant = True"
   ]
  },
  {
   "cell_type": "markdown",
   "metadata": {},
   "source": [
    "for m in reachy.right_arm.motors:\n",
    "    m.compliant = True"
   ]
  },
  {
   "cell_type": "markdown",
   "metadata": {},
   "source": [
    "## Bouger la tête "
   ]
  },
  {
   "cell_type": "markdown",
   "metadata": {},
   "source": [
    "Aller à la position de base "
   ]
  },
  {
   "cell_type": "code",
   "execution_count": 9,
   "metadata": {},
   "outputs": [
    {
     "data": {
      "text/plain": [
       "[<reachy.trajectory.interpolation.MinimumJerk at 0xb34e5230>,\n",
       " <reachy.trajectory.interpolation.MinimumJerk at 0xb34e5f90>,\n",
       " <reachy.trajectory.interpolation.MinimumJerk at 0xa4caf7f0>]"
      ]
     },
     "execution_count": 9,
     "metadata": {},
     "output_type": "execute_result"
    }
   ],
   "source": [
    "reachy.head.compliant = False\n",
    "reachy.head.look_at(1, 0, 0, duration=1, wait=True)"
   ]
  },
  {
   "cell_type": "code",
   "execution_count": 21,
   "metadata": {},
   "outputs": [],
   "source": [
    "reachy.head.compliant = True"
   ]
  },
  {
   "cell_type": "markdown",
   "metadata": {},
   "source": [
    "Bouger la tête en rentrant la position voulu  "
   ]
  },
  {
   "cell_type": "code",
   "execution_count": 22,
   "metadata": {},
   "outputs": [],
   "source": [
    "reachy.head.compliant = False"
   ]
  },
  {
   "cell_type": "markdown",
   "metadata": {},
   "source": [
    "**ATTENTION :** ne pas mettre la durée de déplacement trop courte "
   ]
  },
  {
   "cell_type": "code",
   "execution_count": null,
   "metadata": {},
   "outputs": [],
   "source": [
    "reachy.head.neck.goto(thetas=(-5,-5,-5), duration=3, wait=True)"
   ]
  },
  {
   "cell_type": "markdown",
   "metadata": {},
   "source": [
    "Faire bouger la tête avec une trajectoire aléatoire"
   ]
  },
  {
   "cell_type": "markdown",
   "metadata": {},
   "source": [
    "## Bouger les antennes "
   ]
  },
  {
   "cell_type": "markdown",
   "metadata": {},
   "source": [
    "Lister les moteurs des antennes : "
   ]
  },
  {
   "cell_type": "code",
   "execution_count": 3,
   "metadata": {},
   "outputs": [
    {
     "data": {
      "text/plain": [
       "[<DxlMotor \"head.left_antenna\" pos=\"64.663\" mode=\"stiff\">,\n",
       " <DxlMotor \"head.right_antenna\" pos=\"44.135\" mode=\"stiff\">]"
      ]
     },
     "execution_count": 3,
     "metadata": {},
     "output_type": "execute_result"
    }
   ],
   "source": [
    "reachy.head.motors"
   ]
  },
  {
   "cell_type": "markdown",
   "metadata": {},
   "source": [
    "Les rendrent non compliant"
   ]
  },
  {
   "cell_type": "code",
   "execution_count": 11,
   "metadata": {},
   "outputs": [],
   "source": [
    "for m in reachy.head.motors:\n",
    "    m.compliant = False"
   ]
  },
  {
   "cell_type": "markdown",
   "metadata": {},
   "source": [
    "Mettre les antennes à la position 0° : "
   ]
  },
  {
   "cell_type": "code",
   "execution_count": 19,
   "metadata": {},
   "outputs": [],
   "source": [
    "for m in reachy.head.motors:\n",
    "    m.moving_speed = 50"
   ]
  },
  {
   "cell_type": "code",
   "execution_count": 20,
   "metadata": {},
   "outputs": [],
   "source": [
    "for m in reachy.head.motors:\n",
    "    m.goal_position = 0"
   ]
  },
  {
   "cell_type": "markdown",
   "metadata": {},
   "source": [
    "Mettre les antennes à la position 45° : "
   ]
  },
  {
   "cell_type": "code",
   "execution_count": 21,
   "metadata": {},
   "outputs": [],
   "source": [
    "for m in reachy.head.motors:\n",
    "    m.goal_position = 45"
   ]
  },
  {
   "cell_type": "code",
   "execution_count": 9,
   "metadata": {},
   "outputs": [],
   "source": [
    "for m in reachy.head.motors:\n",
    "    m.compliant = True"
   ]
  }
 ],
 "metadata": {
  "kernelspec": {
   "display_name": "Python 3",
   "language": "python",
   "name": "python3"
  },
  "language_info": {
   "codemirror_mode": {
    "name": "ipython",
    "version": 3
   },
   "file_extension": ".py",
   "mimetype": "text/x-python",
   "name": "python",
   "nbconvert_exporter": "python",
   "pygments_lexer": "ipython3",
   "version": "3.7.3"
  }
 },
 "nbformat": 4,
 "nbformat_minor": 4
}
